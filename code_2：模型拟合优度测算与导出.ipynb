{
 "cells": [
  {
   "cell_type": "code",
   "execution_count": 48,
   "id": "ed81f1a1",
   "metadata": {},
   "outputs": [],
   "source": [
    "import pandas as pd\n",
    "import numpy as np\n",
    "import matplotlib.pyplot as plt\n",
    "from scipy import optimize as op\n",
    "import matplotlib.pyplot as plt\n",
    "from scipy.optimize import curve_fit\n",
    "import numpy as np\n",
    "import sklearn"
   ]
  },
  {
   "cell_type": "code",
   "execution_count": 49,
   "id": "36178564",
   "metadata": {},
   "outputs": [],
   "source": [
    "plt.rcParams['font.sans-serif'] = ['SimHei']  # 用来正常显示中文\n",
    "plt.rcParams['axes.unicode_minus'] = False    # 用来正常显示负号"
   ]
  },
  {
   "cell_type": "code",
   "execution_count": 50,
   "id": "25bd76c8",
   "metadata": {},
   "outputs": [
    {
     "data": {
      "text/html": [
       "<div>\n",
       "<style scoped>\n",
       "    .dataframe tbody tr th:only-of-type {\n",
       "        vertical-align: middle;\n",
       "    }\n",
       "\n",
       "    .dataframe tbody tr th {\n",
       "        vertical-align: top;\n",
       "    }\n",
       "\n",
       "    .dataframe thead th {\n",
       "        text-align: right;\n",
       "    }\n",
       "</style>\n",
       "<table border=\"1\" class=\"dataframe\">\n",
       "  <thead>\n",
       "    <tr style=\"text-align: right;\">\n",
       "      <th></th>\n",
       "      <th>Campaign_id</th>\n",
       "      <th>platform</th>\n",
       "      <th>media_name</th>\n",
       "      <th>media type</th>\n",
       "      <th>grp</th>\n",
       "      <th>reach</th>\n",
       "    </tr>\n",
       "  </thead>\n",
       "  <tbody>\n",
       "    <tr>\n",
       "      <th>0</th>\n",
       "      <td>C000000001</td>\n",
       "      <td>mobile</td>\n",
       "      <td>media c</td>\n",
       "      <td>social media</td>\n",
       "      <td>310.0</td>\n",
       "      <td>0.20%</td>\n",
       "    </tr>\n",
       "    <tr>\n",
       "      <th>1</th>\n",
       "      <td>C000000002</td>\n",
       "      <td>mobile</td>\n",
       "      <td>media a</td>\n",
       "      <td>others</td>\n",
       "      <td>301.0</td>\n",
       "      <td>0.70%</td>\n",
       "    </tr>\n",
       "    <tr>\n",
       "      <th>2</th>\n",
       "      <td>C000000004</td>\n",
       "      <td>mobile</td>\n",
       "      <td>media c</td>\n",
       "      <td>social media</td>\n",
       "      <td>1497.0</td>\n",
       "      <td>2.10%</td>\n",
       "    </tr>\n",
       "    <tr>\n",
       "      <th>3</th>\n",
       "      <td>C000000007</td>\n",
       "      <td>mobile</td>\n",
       "      <td>media g</td>\n",
       "      <td>long video</td>\n",
       "      <td>1281.0</td>\n",
       "      <td>2.40%</td>\n",
       "    </tr>\n",
       "    <tr>\n",
       "      <th>4</th>\n",
       "      <td>C000000010</td>\n",
       "      <td>mobile</td>\n",
       "      <td>media h</td>\n",
       "      <td>long video</td>\n",
       "      <td>1627.0</td>\n",
       "      <td>2.40%</td>\n",
       "    </tr>\n",
       "  </tbody>\n",
       "</table>\n",
       "</div>"
      ],
      "text/plain": [
       "  Campaign_id platform media_name    media type     grp  reach\n",
       "0  C000000001   mobile    media c  social media   310.0  0.20%\n",
       "1  C000000002   mobile   media a         others   301.0  0.70%\n",
       "2  C000000004   mobile    media c  social media  1497.0  2.10%\n",
       "3  C000000007   mobile    media g    long video  1281.0  2.40%\n",
       "4  C000000010   mobile    media h    long video  1627.0  2.40%"
      ]
     },
     "execution_count": 50,
     "metadata": {},
     "output_type": "execute_result"
    }
   ],
   "source": [
    "tr = pd.read_csv(\"train.csv\")\n",
    "te = pd.read_csv(\"test.csv\")\n",
    "tr_te = pd.concat([tr,te],axis=0,ignore_index=True)\n",
    "tr_te.head()"
   ]
  },
  {
   "cell_type": "code",
   "execution_count": 51,
   "id": "821dc7bd",
   "metadata": {
    "scrolled": true
   },
   "outputs": [
    {
     "name": "stdout",
     "output_type": "stream",
     "text": [
      "<class 'pandas.core.frame.DataFrame'>\n",
      "RangeIndex: 3501 entries, 0 to 3500\n",
      "Data columns (total 6 columns):\n",
      " #   Column       Non-Null Count  Dtype  \n",
      "---  ------       --------------  -----  \n",
      " 0   Campaign_id  3501 non-null   object \n",
      " 1   platform     3501 non-null   object \n",
      " 2   media_name   3501 non-null   object \n",
      " 3   media type   3501 non-null   object \n",
      " 4   grp          3501 non-null   float64\n",
      " 5   reach        3501 non-null   object \n",
      "dtypes: float64(1), object(5)\n",
      "memory usage: 164.2+ KB\n"
     ]
    },
    {
     "data": {
      "text/html": [
       "<div>\n",
       "<style scoped>\n",
       "    .dataframe tbody tr th:only-of-type {\n",
       "        vertical-align: middle;\n",
       "    }\n",
       "\n",
       "    .dataframe tbody tr th {\n",
       "        vertical-align: top;\n",
       "    }\n",
       "\n",
       "    .dataframe thead th {\n",
       "        text-align: right;\n",
       "    }\n",
       "</style>\n",
       "<table border=\"1\" class=\"dataframe\">\n",
       "  <thead>\n",
       "    <tr style=\"text-align: right;\">\n",
       "      <th></th>\n",
       "      <th>grp</th>\n",
       "    </tr>\n",
       "  </thead>\n",
       "  <tbody>\n",
       "    <tr>\n",
       "      <th>count</th>\n",
       "      <td>3501.000000</td>\n",
       "    </tr>\n",
       "    <tr>\n",
       "      <th>mean</th>\n",
       "      <td>1402.052922</td>\n",
       "    </tr>\n",
       "    <tr>\n",
       "      <th>std</th>\n",
       "      <td>3651.089787</td>\n",
       "    </tr>\n",
       "    <tr>\n",
       "      <th>min</th>\n",
       "      <td>0.000000</td>\n",
       "    </tr>\n",
       "    <tr>\n",
       "      <th>25%</th>\n",
       "      <td>97.000000</td>\n",
       "    </tr>\n",
       "    <tr>\n",
       "      <th>50%</th>\n",
       "      <td>390.000000</td>\n",
       "    </tr>\n",
       "    <tr>\n",
       "      <th>75%</th>\n",
       "      <td>1469.000000</td>\n",
       "    </tr>\n",
       "    <tr>\n",
       "      <th>max</th>\n",
       "      <td>109215.000000</td>\n",
       "    </tr>\n",
       "  </tbody>\n",
       "</table>\n",
       "</div>"
      ],
      "text/plain": [
       "                 grp\n",
       "count    3501.000000\n",
       "mean     1402.052922\n",
       "std      3651.089787\n",
       "min         0.000000\n",
       "25%        97.000000\n",
       "50%       390.000000\n",
       "75%      1469.000000\n",
       "max    109215.000000"
      ]
     },
     "execution_count": 51,
     "metadata": {},
     "output_type": "execute_result"
    }
   ],
   "source": [
    "tr.info()  #查看列名、缺失情况、数据类型\n",
    "tr.describe() #数值型特征描述统计"
   ]
  },
  {
   "cell_type": "code",
   "execution_count": 52,
   "id": "940a14e4",
   "metadata": {},
   "outputs": [
    {
     "data": {
      "text/html": [
       "<div>\n",
       "<style scoped>\n",
       "    .dataframe tbody tr th:only-of-type {\n",
       "        vertical-align: middle;\n",
       "    }\n",
       "\n",
       "    .dataframe tbody tr th {\n",
       "        vertical-align: top;\n",
       "    }\n",
       "\n",
       "    .dataframe thead th {\n",
       "        text-align: right;\n",
       "    }\n",
       "</style>\n",
       "<table border=\"1\" class=\"dataframe\">\n",
       "  <thead>\n",
       "    <tr style=\"text-align: right;\">\n",
       "      <th></th>\n",
       "      <th>Campaign_id</th>\n",
       "      <th>platform</th>\n",
       "      <th>media_name</th>\n",
       "      <th>media type</th>\n",
       "      <th>grp</th>\n",
       "      <th>reach</th>\n",
       "    </tr>\n",
       "  </thead>\n",
       "  <tbody>\n",
       "    <tr>\n",
       "      <th>0</th>\n",
       "      <td>C000000001</td>\n",
       "      <td>0</td>\n",
       "      <td>2</td>\n",
       "      <td>social media</td>\n",
       "      <td>310.0</td>\n",
       "      <td>0.20%</td>\n",
       "    </tr>\n",
       "    <tr>\n",
       "      <th>1</th>\n",
       "      <td>C000000002</td>\n",
       "      <td>0</td>\n",
       "      <td>0</td>\n",
       "      <td>others</td>\n",
       "      <td>301.0</td>\n",
       "      <td>0.70%</td>\n",
       "    </tr>\n",
       "    <tr>\n",
       "      <th>2</th>\n",
       "      <td>C000000004</td>\n",
       "      <td>0</td>\n",
       "      <td>2</td>\n",
       "      <td>social media</td>\n",
       "      <td>1497.0</td>\n",
       "      <td>2.10%</td>\n",
       "    </tr>\n",
       "    <tr>\n",
       "      <th>3</th>\n",
       "      <td>C000000007</td>\n",
       "      <td>0</td>\n",
       "      <td>6</td>\n",
       "      <td>long video</td>\n",
       "      <td>1281.0</td>\n",
       "      <td>2.40%</td>\n",
       "    </tr>\n",
       "    <tr>\n",
       "      <th>4</th>\n",
       "      <td>C000000010</td>\n",
       "      <td>0</td>\n",
       "      <td>7</td>\n",
       "      <td>long video</td>\n",
       "      <td>1627.0</td>\n",
       "      <td>2.40%</td>\n",
       "    </tr>\n",
       "    <tr>\n",
       "      <th>...</th>\n",
       "      <td>...</td>\n",
       "      <td>...</td>\n",
       "      <td>...</td>\n",
       "      <td>...</td>\n",
       "      <td>...</td>\n",
       "      <td>...</td>\n",
       "    </tr>\n",
       "    <tr>\n",
       "      <th>3496</th>\n",
       "      <td>C000006484</td>\n",
       "      <td>1</td>\n",
       "      <td>3</td>\n",
       "      <td>others</td>\n",
       "      <td>170.0</td>\n",
       "      <td>0.30%</td>\n",
       "    </tr>\n",
       "    <tr>\n",
       "      <th>3497</th>\n",
       "      <td>C000006485</td>\n",
       "      <td>1</td>\n",
       "      <td>4</td>\n",
       "      <td>others</td>\n",
       "      <td>674.0</td>\n",
       "      <td>0.60%</td>\n",
       "    </tr>\n",
       "    <tr>\n",
       "      <th>3498</th>\n",
       "      <td>C000006486</td>\n",
       "      <td>1</td>\n",
       "      <td>5</td>\n",
       "      <td>others</td>\n",
       "      <td>3299.0</td>\n",
       "      <td>2.00%</td>\n",
       "    </tr>\n",
       "    <tr>\n",
       "      <th>3499</th>\n",
       "      <td>C000006491</td>\n",
       "      <td>1</td>\n",
       "      <td>8</td>\n",
       "      <td>others</td>\n",
       "      <td>524.0</td>\n",
       "      <td>0.60%</td>\n",
       "    </tr>\n",
       "    <tr>\n",
       "      <th>3500</th>\n",
       "      <td>C000006508</td>\n",
       "      <td>1</td>\n",
       "      <td>14</td>\n",
       "      <td>others</td>\n",
       "      <td>187.0</td>\n",
       "      <td>0.40%</td>\n",
       "    </tr>\n",
       "  </tbody>\n",
       "</table>\n",
       "<p>3501 rows × 6 columns</p>\n",
       "</div>"
      ],
      "text/plain": [
       "     Campaign_id  platform  media_name    media type     grp  reach\n",
       "0     C000000001         0           2  social media   310.0  0.20%\n",
       "1     C000000002         0           0        others   301.0  0.70%\n",
       "2     C000000004         0           2  social media  1497.0  2.10%\n",
       "3     C000000007         0           6    long video  1281.0  2.40%\n",
       "4     C000000010         0           7    long video  1627.0  2.40%\n",
       "...          ...       ...         ...           ...     ...    ...\n",
       "3496  C000006484         1           3        others   170.0  0.30%\n",
       "3497  C000006485         1           4        others   674.0  0.60%\n",
       "3498  C000006486         1           5        others  3299.0  2.00%\n",
       "3499  C000006491         1           8        others   524.0  0.60%\n",
       "3500  C000006508         1          14        others   187.0  0.40%\n",
       "\n",
       "[3501 rows x 6 columns]"
      ]
     },
     "execution_count": 52,
     "metadata": {},
     "output_type": "execute_result"
    }
   ],
   "source": [
    "from sklearn.preprocessing import OneHotEncoder, LabelEncoder\n",
    "\n",
    "label = LabelEncoder()\n",
    "\n",
    "# 法一：\n",
    "tr['platform'] = label.fit_transform(tr['platform'])  \n",
    "tr['media_name'] = label.fit_transform(tr['media_name']) \n",
    "tr"
   ]
  },
  {
   "cell_type": "code",
   "execution_count": 53,
   "id": "401f4452",
   "metadata": {
    "scrolled": true
   },
   "outputs": [],
   "source": [
    "tr['reach'] = tr['reach'].str.strip('%').astype(float)/100  "
   ]
  },
  {
   "cell_type": "code",
   "execution_count": 56,
   "id": "276d3636",
   "metadata": {
    "scrolled": true
   },
   "outputs": [
    {
     "data": {
      "text/html": [
       "<div>\n",
       "<style scoped>\n",
       "    .dataframe tbody tr th:only-of-type {\n",
       "        vertical-align: middle;\n",
       "    }\n",
       "\n",
       "    .dataframe tbody tr th {\n",
       "        vertical-align: top;\n",
       "    }\n",
       "\n",
       "    .dataframe thead th {\n",
       "        text-align: right;\n",
       "    }\n",
       "</style>\n",
       "<table border=\"1\" class=\"dataframe\">\n",
       "  <thead>\n",
       "    <tr style=\"text-align: right;\">\n",
       "      <th></th>\n",
       "      <th>platform</th>\n",
       "      <th>media_name</th>\n",
       "      <th>grp</th>\n",
       "      <th>reach</th>\n",
       "    </tr>\n",
       "  </thead>\n",
       "  <tbody>\n",
       "    <tr>\n",
       "      <th>count</th>\n",
       "      <td>3501.000000</td>\n",
       "      <td>3501.000000</td>\n",
       "      <td>3501.000000</td>\n",
       "      <td>3501.000000</td>\n",
       "    </tr>\n",
       "    <tr>\n",
       "      <th>mean</th>\n",
       "      <td>0.381034</td>\n",
       "      <td>8.467009</td>\n",
       "      <td>1402.052922</td>\n",
       "      <td>142.131054</td>\n",
       "    </tr>\n",
       "    <tr>\n",
       "      <th>std</th>\n",
       "      <td>0.485710</td>\n",
       "      <td>4.818045</td>\n",
       "      <td>3651.089787</td>\n",
       "      <td>198.001412</td>\n",
       "    </tr>\n",
       "    <tr>\n",
       "      <th>min</th>\n",
       "      <td>0.000000</td>\n",
       "      <td>0.000000</td>\n",
       "      <td>0.000000</td>\n",
       "      <td>0.000000</td>\n",
       "    </tr>\n",
       "    <tr>\n",
       "      <th>25%</th>\n",
       "      <td>0.000000</td>\n",
       "      <td>5.000000</td>\n",
       "      <td>97.000000</td>\n",
       "      <td>10.000000</td>\n",
       "    </tr>\n",
       "    <tr>\n",
       "      <th>50%</th>\n",
       "      <td>0.000000</td>\n",
       "      <td>8.000000</td>\n",
       "      <td>390.000000</td>\n",
       "      <td>60.000000</td>\n",
       "    </tr>\n",
       "    <tr>\n",
       "      <th>75%</th>\n",
       "      <td>1.000000</td>\n",
       "      <td>12.000000</td>\n",
       "      <td>1469.000000</td>\n",
       "      <td>200.000000</td>\n",
       "    </tr>\n",
       "    <tr>\n",
       "      <th>max</th>\n",
       "      <td>1.000000</td>\n",
       "      <td>16.000000</td>\n",
       "      <td>109215.000000</td>\n",
       "      <td>1790.000000</td>\n",
       "    </tr>\n",
       "  </tbody>\n",
       "</table>\n",
       "</div>"
      ],
      "text/plain": [
       "          platform   media_name            grp        reach\n",
       "count  3501.000000  3501.000000    3501.000000  3501.000000\n",
       "mean      0.381034     8.467009    1402.052922   142.131054\n",
       "std       0.485710     4.818045    3651.089787   198.001412\n",
       "min       0.000000     0.000000       0.000000     0.000000\n",
       "25%       0.000000     5.000000      97.000000    10.000000\n",
       "50%       0.000000     8.000000     390.000000    60.000000\n",
       "75%       1.000000    12.000000    1469.000000   200.000000\n",
       "max       1.000000    16.000000  109215.000000  1790.000000"
      ]
     },
     "execution_count": 56,
     "metadata": {},
     "output_type": "execute_result"
    }
   ],
   "source": [
    "tr.describe() #数值型特征描述统计"
   ]
  },
  {
   "cell_type": "code",
   "execution_count": 57,
   "id": "d454e38e",
   "metadata": {},
   "outputs": [],
   "source": [
    "equation = []"
   ]
  },
  {
   "cell_type": "code",
   "execution_count": 58,
   "id": "6e54b805",
   "metadata": {},
   "outputs": [],
   "source": [
    "def index(pn):\n",
    "    global y_group\n",
    "    global x_group\n",
    "    # 需要拟合的数据组\n",
    "    pn_round = pn.round({'grp': 4, 'reach': 4})\n",
    "    x_group = np.array(pn_round['grp'])\n",
    "    y_group = np.array(pn_round['reach'])\n",
    "    \n",
    "    # 需要拟合的函数\n",
    "    def f_1(x, A, B, C, D ,E):\n",
    "        return A * x**4 + B * x**3 + C * x**2 + D * x**1 + E\n",
    "    #得到返回的A，B值\n",
    "    A, B, C, D, E = op.curve_fit(f_1, x_group, y_group)[0]\n",
    "\n",
    "    # 数据点与原先的进行画图比较\n",
    "    plt.scatter(x_group, y_group, marker='o',label='真实值')\n",
    "    x = np.arange(0, 30, 0.001)\n",
    "    y = A * x**4 + B * x**3 + C * x**2 + D * x**1 +E\n",
    "    plt.plot(x, y,color='red',label='拟合曲线')\n",
    "    plt.legend() # 显示label\n",
    "    plt.xlabel(\"grp\")\n",
    "    plt.ylabel(\"reach\")\n",
    "    plt.show()\n",
    "    equation.append([p,n,f'{A} * x**4 + {B} * x**3 + {C} * x**2 + {D} * x**1 +{E} ',x_group,y_group])\n"
   ]
  },
  {
   "cell_type": "code",
   "execution_count": 59,
   "id": "88dcf5a8",
   "metadata": {},
   "outputs": [],
   "source": [
    "n0 = [0,1,2,9,10,12,16]\n",
    "n1 = [3,4,5,8,13,14]\n",
    "n01 = [6,7,11,15]"
   ]
  },
  {
   "cell_type": "code",
   "execution_count": 60,
   "id": "2c55d800",
   "metadata": {},
   "outputs": [
    {
     "data": {
      "image/png": "[encoded data removed]",
      "text/plain": [
       "<Figure size 432x288 with 1 Axes>"
      ]
     },
     "metadata": {
      "needs_background": "light"
     },
     "output_type": "display_data"
    },
    {
     "data": {
      "image/png": "[encoded data removed]",
      "text/plain": [
       "<Figure size 432x288 with 1 Axes>"
      ]
     },
     "metadata": {
      "needs_background": "light"
     },
     "output_type": "display_data"
    },
    {
     "data": {
      "image/png": "[encoded data removed]",
      "text/plain": [
       "<Figure size 432x288 with 1 Axes>"
      ]
     },
     "metadata": {
      "needs_background": "light"
     },
     "output_type": "display_data"
    },
    {
     "data": {
      "image/png": "[encoded data removed]",
      "text/plain": [
       "<Figure size 432x288 with 1 Axes>"
      ]
     },
     "metadata": {
      "needs_background": "light"
     },
     "output_type": "display_data"
    },
    {
     "data": {
      "image/png": "[encoded data removed]",
      "text/plain": [
       "<Figure size 432x288 with 1 Axes>"
      ]
     },
     "metadata": {
      "needs_background": "light"
     },
     "output_type": "display_data"
    },
    {
     "data": {
      "image/png": "[encoded data removed]",
      "text/plain": [
       "<Figure size 432x288 with 1 Axes>"
      ]
     },
     "metadata": {
      "needs_background": "light"
     },
     "output_type": "display_data"
    },
    {
     "data": {
      "image/png": "[encoded data removed]",
      "text/plain": [
       "<Figure size 432x288 with 1 Axes>"
      ]
     },
     "metadata": {
      "needs_background": "light"
     },
     "output_type": "display_data"
    },
    {
     "data": {
      "image/png": "[encoded data removed]",
      "text/plain": [
       "<Figure size 432x288 with 1 Axes>"
      ]
     },
     "metadata": {
      "needs_background": "light"
     },
     "output_type": "display_data"
    },
    {
     "data": {
      "image/png": "[encoded data removed]",
      "text/plain": [
       "<Figure size 432x288 with 1 Axes>"
      ]
     },
     "metadata": {
      "needs_background": "light"
     },
     "output_type": "display_data"
    },
    {
     "data": {
      "image/png": "[encoded data removed]",
      "text/plain": [
       "<Figure size 432x288 with 1 Axes>"
      ]
     },
     "metadata": {
      "needs_background": "light"
     },
     "output_type": "display_data"
    },
    {
     "data": {
      "image/png": "[encoded data removed]",
      "text/plain": [
       "<Figure size 432x288 with 1 Axes>"
      ]
     },
     "metadata": {
      "needs_background": "light"
     },
     "output_type": "display_data"
    },
    {
     "data": {
      "image/png": "[encoded data removed]",
      "text/plain": [
       "<Figure size 432x288 with 1 Axes>"
      ]
     },
     "metadata": {
      "needs_background": "light"
     },
     "output_type": "display_data"
    },
    {
     "data": {
      "image/png": "[encoded data removed]",
      "text/plain": [
       "<Figure size 432x288 with 1 Axes>"
      ]
     },
     "metadata": {
      "needs_background": "light"
     },
     "output_type": "display_data"
    },
    {
     "data": {
      "image/png": "[encoded data removed]",
      "text/plain": [
       "<Figure size 432x288 with 1 Axes>"
      ]
     },
     "metadata": {
      "needs_background": "light"
     },
     "output_type": "display_data"
    },
    {
     "data": {
      "image/png": "[encoded data removed]",
      "text/plain": [
       "<Figure size 432x288 with 1 Axes>"
      ]
     },
     "metadata": {
      "needs_background": "light"
     },
     "output_type": "display_data"
    },
    {
     "data": {
      "image/png": "[encoded data removed]",
      "text/plain": [
       "<Figure size 432x288 with 1 Axes>"
      ]
     },
     "metadata": {
      "needs_background": "light"
     },
     "output_type": "display_data"
    },
    {
     "data": {
      "image/png": "[encoded data removed]",
      "text/plain": [
       "<Figure size 432x288 with 1 Axes>"
      ]
     },
     "metadata": {
      "needs_background": "light"
     },
     "output_type": "display_data"
    },
    {
     "data": {
      "image/png": "[encoded data removed]",
      "text/plain": [
       "<Figure size 432x288 with 1 Axes>"
      ]
     },
     "metadata": {
      "needs_background": "light"
     },
     "output_type": "display_data"
    },
    {
     "data": {
      "image/png": "[encoded data removed]",
      "text/plain": [
       "<Figure size 432x288 with 1 Axes>"
      ]
     },
     "metadata": {
      "needs_background": "light"
     },
     "output_type": "display_data"
    },
    {
     "data": {
      "image/png": "[encoded data removed]",
      "text/plain": [
       "<Figure size 432x288 with 1 Axes>"
      ]
     },
     "metadata": {
      "needs_background": "light"
     },
     "output_type": "display_data"
    },
    {
     "data": {
      "image/png": "[encoded data removed]",
      "text/plain": [
       "<Figure size 432x288 with 1 Axes>"
      ]
     },
     "metadata": {
      "needs_background": "light"
     },
     "output_type": "display_data"
    }
   ],
   "source": [
    "for n in range(17):     \n",
    "    if n in n0:\n",
    "        p = 0\n",
    "        classify(p,n)\n",
    "    elif n in n1:\n",
    "        p = 1\n",
    "        classify(p,n)\n",
    "    else:\n",
    "        plist = [0,1]\n",
    "        for p in plist:\n",
    "            classify(p,n)"
   ]
  },
  {
   "cell_type": "code",
   "execution_count": 61,
   "id": "9444d0ba",
   "metadata": {},
   "outputs": [
    {
     "data": {
      "image/png": "[encoded data removed]",
      "text/plain": [
       "<Figure size 432x288 with 1 Axes>"
      ]
     },
     "metadata": {
      "needs_background": "light"
     },
     "output_type": "display_data"
    }
   ],
   "source": [
    "def classify(p,n):\n",
    "    pn = tr[ (tr['platform'] == p)  &  (tr['media_name'] == n) ]\n",
    "    index(pn)\n",
    "classify(p,n)"
   ]
  },
  {
   "cell_type": "code",
   "execution_count": 62,
   "id": "f6c9f325",
   "metadata": {},
   "outputs": [],
   "source": [
    "equation = pd.DataFrame(equation)"
   ]
  },
  {
   "cell_type": "code",
   "execution_count": 63,
   "id": "351c08d9",
   "metadata": {},
   "outputs": [
    {
     "data": {
      "text/html": [
       "<div>\n",
       "<style scoped>\n",
       "    .dataframe tbody tr th:only-of-type {\n",
       "        vertical-align: middle;\n",
       "    }\n",
       "\n",
       "    .dataframe tbody tr th {\n",
       "        vertical-align: top;\n",
       "    }\n",
       "\n",
       "    .dataframe thead th {\n",
       "        text-align: right;\n",
       "    }\n",
       "</style>\n",
       "<table border=\"1\" class=\"dataframe\">\n",
       "  <thead>\n",
       "    <tr style=\"text-align: right;\">\n",
       "      <th></th>\n",
       "      <th>platform</th>\n",
       "      <th>media_name</th>\n",
       "      <th>equation</th>\n",
       "      <th>x_group</th>\n",
       "      <th>y_group</th>\n",
       "    </tr>\n",
       "  </thead>\n",
       "  <tbody>\n",
       "    <tr>\n",
       "      <th>0</th>\n",
       "      <td>0</td>\n",
       "      <td>0</td>\n",
       "      <td>8.358288657229402e-12 * x**4 + -5.978937801336...</td>\n",
       "      <td>[301.0, 38.0, 325.0, 23.0, 105.0, 299.0, 139.0...</td>\n",
       "      <td>[70.0, 10.0, 70.0, 10.0, 20.0, 70.0, 20.0, 20....</td>\n",
       "    </tr>\n",
       "    <tr>\n",
       "      <th>1</th>\n",
       "      <td>0</td>\n",
       "      <td>1</td>\n",
       "      <td>-7.081279128057208e-08 * x**4 + 2.999371277303...</td>\n",
       "      <td>[24.0, 4.0, 68.0, 8.0, 7.0, 157.0, 101.0, 61.0...</td>\n",
       "      <td>[10.0, 0.0, 20.0, 0.0, 0.0, 40.0, 30.0, 10.0, ...</td>\n",
       "    </tr>\n",
       "    <tr>\n",
       "      <th>2</th>\n",
       "      <td>0</td>\n",
       "      <td>2</td>\n",
       "      <td>-1.607787499288402e-16 * x**4 + 8.488173947730...</td>\n",
       "      <td>[310.0, 1497.0, 1061.0, 11567.0, 1010.0, 189.0...</td>\n",
       "      <td>[20.0, 210.0, 120.0, 1060.0, 80.0, 20.0, 40.0,...</td>\n",
       "    </tr>\n",
       "    <tr>\n",
       "      <th>3</th>\n",
       "      <td>1</td>\n",
       "      <td>3</td>\n",
       "      <td>-2.349420587876182e-12 * x**4 + 2.279231275680...</td>\n",
       "      <td>[175.0, 39.0, 377.0, 39.0, 443.0, 141.0, 130.0...</td>\n",
       "      <td>[40.0, 10.0, 70.0, 10.0, 70.0, 30.0, 30.0, 60....</td>\n",
       "    </tr>\n",
       "    <tr>\n",
       "      <th>4</th>\n",
       "      <td>1</td>\n",
       "      <td>4</td>\n",
       "      <td>-2.512460283338274e-12 * x**4 + 2.199925466906...</td>\n",
       "      <td>[480.0, 122.0, 211.0, 78.0, 55.0, 78.0, 90.0, ...</td>\n",
       "      <td>[60.0, 20.0, 30.0, 10.0, 10.0, 10.0, 20.0, 10....</td>\n",
       "    </tr>\n",
       "    <tr>\n",
       "      <th>5</th>\n",
       "      <td>1</td>\n",
       "      <td>5</td>\n",
       "      <td>-8.87827458793087e-15 * x**4 + 6.2392043322982...</td>\n",
       "      <td>[8585.0, 4224.0, 5416.0, 6.0, 2.0, 22.0, 6.0, ...</td>\n",
       "      <td>[550.0, 300.0, 370.0, 0.0, 0.0, 10.0, 0.0, 70....</td>\n",
       "    </tr>\n",
       "    <tr>\n",
       "      <th>6</th>\n",
       "      <td>0</td>\n",
       "      <td>6</td>\n",
       "      <td>-1.171223040699868e-13 * x**4 + 3.311486587829...</td>\n",
       "      <td>[1281.0, 103.0, 1932.0, 82.0, 2572.0, 1019.0, ...</td>\n",
       "      <td>[240.0, 20.0, 400.0, 20.0, 430.0, 210.0, 130.0...</td>\n",
       "    </tr>\n",
       "    <tr>\n",
       "      <th>7</th>\n",
       "      <td>1</td>\n",
       "      <td>6</td>\n",
       "      <td>-4.686834720843802e-13 * x**4 + 6.579524062664...</td>\n",
       "      <td>[655.0, 130.0, 1019.0, 78.0, 1600.0, 450.0, 47...</td>\n",
       "      <td>[90.0, 20.0, 130.0, 10.0, 180.0, 80.0, 80.0, 1...</td>\n",
       "    </tr>\n",
       "    <tr>\n",
       "      <th>8</th>\n",
       "      <td>0</td>\n",
       "      <td>7</td>\n",
       "      <td>-7.305976405625515e-15 * x**4 + 5.637863468985...</td>\n",
       "      <td>[1627.0, 256.0, 2323.0, 388.0, 3256.0, 158.0, ...</td>\n",
       "      <td>[240.0, 40.0, 440.0, 60.0, 440.0, 30.0, 110.0,...</td>\n",
       "    </tr>\n",
       "    <tr>\n",
       "      <th>9</th>\n",
       "      <td>1</td>\n",
       "      <td>7</td>\n",
       "      <td>3.2961576906801373e-13 * x**4 + -2.26348975835...</td>\n",
       "      <td>[1913.0, 462.0, 3031.0, 174.0, 5010.0, 1292.0,...</td>\n",
       "      <td>[290.0, 90.0, 430.0, 40.0, 560.0, 210.0, 60.0,...</td>\n",
       "    </tr>\n",
       "    <tr>\n",
       "      <th>10</th>\n",
       "      <td>1</td>\n",
       "      <td>8</td>\n",
       "      <td>2.947341271339937e-11 * x**4 + -1.685131507635...</td>\n",
       "      <td>[412.0, 142.0, 171.0, 48.0, 54.0, 41.0, 69.0, ...</td>\n",
       "      <td>[60.0, 20.0, 30.0, 10.0, 10.0, 10.0, 10.0, 10....</td>\n",
       "    </tr>\n",
       "    <tr>\n",
       "      <th>11</th>\n",
       "      <td>0</td>\n",
       "      <td>9</td>\n",
       "      <td>-1.5522071377033433e-12 * x**4 + 2.29505191386...</td>\n",
       "      <td>[18.0, 114.0, 98.0, 1.0, 158.0, 3.0, 0.0, 27.0...</td>\n",
       "      <td>[0.0, 20.0, 20.0, 0.0, 30.0, 0.0, 0.0, 10.0, 1...</td>\n",
       "    </tr>\n",
       "    <tr>\n",
       "      <th>12</th>\n",
       "      <td>0</td>\n",
       "      <td>10</td>\n",
       "      <td>4.9807773274984985e-15 * x**4 + -2.73830917721...</td>\n",
       "      <td>[709.9364, 140.0058, 553.6649, 5492.8633, 2413...</td>\n",
       "      <td>[0.7365, 0.2553, 0.6507, 2.3189, 1.7509, 0.331...</td>\n",
       "    </tr>\n",
       "    <tr>\n",
       "      <th>13</th>\n",
       "      <td>0</td>\n",
       "      <td>11</td>\n",
       "      <td>-9.016296123006474e-13 * x**4 + 1.077781391065...</td>\n",
       "      <td>[596.0, 112.0, 1055.0, 130.0, 1954.0, 480.0, 9...</td>\n",
       "      <td>[110.0, 20.0, 200.0, 20.0, 300.0, 90.0, 120.0,...</td>\n",
       "    </tr>\n",
       "    <tr>\n",
       "      <th>14</th>\n",
       "      <td>1</td>\n",
       "      <td>11</td>\n",
       "      <td>-1.839555056729232e-12 * x**4 + 2.123330101115...</td>\n",
       "      <td>[133.0, 78.0, 929.0, 114.0, 716.0, 381.0, 88.0...</td>\n",
       "      <td>[30.0, 20.0, 190.0, 20.0, 140.0, 80.0, 20.0, 0...</td>\n",
       "    </tr>\n",
       "    <tr>\n",
       "      <th>15</th>\n",
       "      <td>0</td>\n",
       "      <td>12</td>\n",
       "      <td>-4.596465492503174e-16 * x**4 + 8.759334808288...</td>\n",
       "      <td>[97.0, 5934.0, 885.0, 628.0, 138.0, 253.0, 134...</td>\n",
       "      <td>[10.0, 330.0, 90.0, 80.0, 20.0, 30.0, 160.0, 2...</td>\n",
       "    </tr>\n",
       "    <tr>\n",
       "      <th>16</th>\n",
       "      <td>1</td>\n",
       "      <td>13</td>\n",
       "      <td>-1.9137857565288408e-11 * x**4 + 1.87728825758...</td>\n",
       "      <td>[413.0, 292.0, 408.0, 118.0, 162.0, 126.0, 191...</td>\n",
       "      <td>[70.0, 60.0, 90.0, 30.0, 30.0, 30.0, 40.0, 20....</td>\n",
       "    </tr>\n",
       "    <tr>\n",
       "      <th>17</th>\n",
       "      <td>1</td>\n",
       "      <td>14</td>\n",
       "      <td>-6.6409979899000505e-12 * x**4 + 3.54718848044...</td>\n",
       "      <td>[165.0, 38.0, 312.0, 23.0, 452.0, 114.0, 123.0...</td>\n",
       "      <td>[30.0, 10.0, 60.0, 10.0, 70.0, 30.0, 30.0, 60....</td>\n",
       "    </tr>\n",
       "    <tr>\n",
       "      <th>18</th>\n",
       "      <td>0</td>\n",
       "      <td>15</td>\n",
       "      <td>-1.0663157166528422e-09 * x**4 + 1.29959964849...</td>\n",
       "      <td>[202.0, 86.0, 219.0, 56.0, 528.0, 98.0, 156.0,...</td>\n",
       "      <td>[40.0, 10.0, 40.0, 10.0, 70.0, 20.0, 20.0, 30....</td>\n",
       "    </tr>\n",
       "    <tr>\n",
       "      <th>19</th>\n",
       "      <td>1</td>\n",
       "      <td>15</td>\n",
       "      <td>1.0537434437079662e-11 * x**4 + -2.57870855717...</td>\n",
       "      <td>[435.0, 129.0, 792.0, 49.0, 1492.0, 345.0, 83....</td>\n",
       "      <td>[80.0, 30.0, 120.0, 10.0, 180.0, 60.0, 20.0, 6...</td>\n",
       "    </tr>\n",
       "    <tr>\n",
       "      <th>20</th>\n",
       "      <td>0</td>\n",
       "      <td>16</td>\n",
       "      <td>-5.066076119828175e-16 * x**4 + 1.608941142281...</td>\n",
       "      <td>[45.769, 10169.4583, 638.1383, 4.8829, 90.2415...</td>\n",
       "      <td>[0.0953, 4.2403, 1.3262, 0.0127, 0.2141, 0.239...</td>\n",
       "    </tr>\n",
       "    <tr>\n",
       "      <th>21</th>\n",
       "      <td>0</td>\n",
       "      <td>16</td>\n",
       "      <td>-5.066076119828175e-16 * x**4 + 1.608941142281...</td>\n",
       "      <td>[45.769, 10169.4583, 638.1383, 4.8829, 90.2415...</td>\n",
       "      <td>[0.0953, 4.2403, 1.3262, 0.0127, 0.2141, 0.239...</td>\n",
       "    </tr>\n",
       "  </tbody>\n",
       "</table>\n",
       "</div>"
      ],
      "text/plain": [
       "    platform  media_name                                           equation  \\\n",
       "0          0           0  8.358288657229402e-12 * x**4 + -5.978937801336...   \n",
       "1          0           1  -7.081279128057208e-08 * x**4 + 2.999371277303...   \n",
       "2          0           2  -1.607787499288402e-16 * x**4 + 8.488173947730...   \n",
       "3          1           3  -2.349420587876182e-12 * x**4 + 2.279231275680...   \n",
       "4          1           4  -2.512460283338274e-12 * x**4 + 2.199925466906...   \n",
       "5          1           5  -8.87827458793087e-15 * x**4 + 6.2392043322982...   \n",
       "6          0           6  -1.171223040699868e-13 * x**4 + 3.311486587829...   \n",
       "7          1           6  -4.686834720843802e-13 * x**4 + 6.579524062664...   \n",
       "8          0           7  -7.305976405625515e-15 * x**4 + 5.637863468985...   \n",
       "9          1           7  3.2961576906801373e-13 * x**4 + -2.26348975835...   \n",
       "10         1           8  2.947341271339937e-11 * x**4 + -1.685131507635...   \n",
       "11         0           9  -1.5522071377033433e-12 * x**4 + 2.29505191386...   \n",
       "12         0          10  4.9807773274984985e-15 * x**4 + -2.73830917721...   \n",
       "13         0          11  -9.016296123006474e-13 * x**4 + 1.077781391065...   \n",
       "14         1          11  -1.839555056729232e-12 * x**4 + 2.123330101115...   \n",
       "15         0          12  -4.596465492503174e-16 * x**4 + 8.759334808288...   \n",
       "16         1          13  -1.9137857565288408e-11 * x**4 + 1.87728825758...   \n",
       "17         1          14  -6.6409979899000505e-12 * x**4 + 3.54718848044...   \n",
       "18         0          15  -1.0663157166528422e-09 * x**4 + 1.29959964849...   \n",
       "19         1          15  1.0537434437079662e-11 * x**4 + -2.57870855717...   \n",
       "20         0          16  -5.066076119828175e-16 * x**4 + 1.608941142281...   \n",
       "21         0          16  -5.066076119828175e-16 * x**4 + 1.608941142281...   \n",
       "\n",
       "                                              x_group  \\\n",
       "0   [301.0, 38.0, 325.0, 23.0, 105.0, 299.0, 139.0...   \n",
       "1   [24.0, 4.0, 68.0, 8.0, 7.0, 157.0, 101.0, 61.0...   \n",
       "2   [310.0, 1497.0, 1061.0, 11567.0, 1010.0, 189.0...   \n",
       "3   [175.0, 39.0, 377.0, 39.0, 443.0, 141.0, 130.0...   \n",
       "4   [480.0, 122.0, 211.0, 78.0, 55.0, 78.0, 90.0, ...   \n",
       "5   [8585.0, 4224.0, 5416.0, 6.0, 2.0, 22.0, 6.0, ...   \n",
       "6   [1281.0, 103.0, 1932.0, 82.0, 2572.0, 1019.0, ...   \n",
       "7   [655.0, 130.0, 1019.0, 78.0, 1600.0, 450.0, 47...   \n",
       "8   [1627.0, 256.0, 2323.0, 388.0, 3256.0, 158.0, ...   \n",
       "9   [1913.0, 462.0, 3031.0, 174.0, 5010.0, 1292.0,...   \n",
       "10  [412.0, 142.0, 171.0, 48.0, 54.0, 41.0, 69.0, ...   \n",
       "11  [18.0, 114.0, 98.0, 1.0, 158.0, 3.0, 0.0, 27.0...   \n",
       "12  [709.9364, 140.0058, 553.6649, 5492.8633, 2413...   \n",
       "13  [596.0, 112.0, 1055.0, 130.0, 1954.0, 480.0, 9...   \n",
       "14  [133.0, 78.0, 929.0, 114.0, 716.0, 381.0, 88.0...   \n",
       "15  [97.0, 5934.0, 885.0, 628.0, 138.0, 253.0, 134...   \n",
       "16  [413.0, 292.0, 408.0, 118.0, 162.0, 126.0, 191...   \n",
       "17  [165.0, 38.0, 312.0, 23.0, 452.0, 114.0, 123.0...   \n",
       "18  [202.0, 86.0, 219.0, 56.0, 528.0, 98.0, 156.0,...   \n",
       "19  [435.0, 129.0, 792.0, 49.0, 1492.0, 345.0, 83....   \n",
       "20  [45.769, 10169.4583, 638.1383, 4.8829, 90.2415...   \n",
       "21  [45.769, 10169.4583, 638.1383, 4.8829, 90.2415...   \n",
       "\n",
       "                                              y_group  \n",
       "0   [70.0, 10.0, 70.0, 10.0, 20.0, 70.0, 20.0, 20....  \n",
       "1   [10.0, 0.0, 20.0, 0.0, 0.0, 40.0, 30.0, 10.0, ...  \n",
       "2   [20.0, 210.0, 120.0, 1060.0, 80.0, 20.0, 40.0,...  \n",
       "3   [40.0, 10.0, 70.0, 10.0, 70.0, 30.0, 30.0, 60....  \n",
       "4   [60.0, 20.0, 30.0, 10.0, 10.0, 10.0, 20.0, 10....  \n",
       "5   [550.0, 300.0, 370.0, 0.0, 0.0, 10.0, 0.0, 70....  \n",
       "6   [240.0, 20.0, 400.0, 20.0, 430.0, 210.0, 130.0...  \n",
       "7   [90.0, 20.0, 130.0, 10.0, 180.0, 80.0, 80.0, 1...  \n",
       "8   [240.0, 40.0, 440.0, 60.0, 440.0, 30.0, 110.0,...  \n",
       "9   [290.0, 90.0, 430.0, 40.0, 560.0, 210.0, 60.0,...  \n",
       "10  [60.0, 20.0, 30.0, 10.0, 10.0, 10.0, 10.0, 10....  \n",
       "11  [0.0, 20.0, 20.0, 0.0, 30.0, 0.0, 0.0, 10.0, 1...  \n",
       "12  [0.7365, 0.2553, 0.6507, 2.3189, 1.7509, 0.331...  \n",
       "13  [110.0, 20.0, 200.0, 20.0, 300.0, 90.0, 120.0,...  \n",
       "14  [30.0, 20.0, 190.0, 20.0, 140.0, 80.0, 20.0, 0...  \n",
       "15  [10.0, 330.0, 90.0, 80.0, 20.0, 30.0, 160.0, 2...  \n",
       "16  [70.0, 60.0, 90.0, 30.0, 30.0, 30.0, 40.0, 20....  \n",
       "17  [30.0, 10.0, 60.0, 10.0, 70.0, 30.0, 30.0, 60....  \n",
       "18  [40.0, 10.0, 40.0, 10.0, 70.0, 20.0, 20.0, 30....  \n",
       "19  [80.0, 30.0, 120.0, 10.0, 180.0, 60.0, 20.0, 6...  \n",
       "20  [0.0953, 4.2403, 1.3262, 0.0127, 0.2141, 0.239...  \n",
       "21  [0.0953, 4.2403, 1.3262, 0.0127, 0.2141, 0.239...  "
      ]
     },
     "execution_count": 63,
     "metadata": {},
     "output_type": "execute_result"
    }
   ],
   "source": [
    "equation.columns = ['platform','media_name','equation','x_group','y_group']\n",
    "equation"
   ]
  },
  {
   "cell_type": "code",
   "execution_count": 64,
   "id": "ea36f45a",
   "metadata": {},
   "outputs": [],
   "source": [
    "# #################################拟合优度R^2的计算######################################\n",
    "def __sst(y_no_fitting):\n",
    "    \"\"\"\n",
    "    计算SST(total sum of squares) 总平方和\n",
    "    :param y_no_predicted: List[int] or array[int] 待拟合的y\n",
    "    :return: 总平方和SST\n",
    "    \"\"\"\n",
    "    y_mean = sum(y_no_fitting) / len(y_no_fitting)\n",
    "    s_list =[(y - y_mean)**2 for y in y_no_fitting]\n",
    "    sst = sum(s_list)\n",
    "    return sst\n",
    "\n",
    "\n",
    "def __ssr(y_fitting, y_no_fitting):\n",
    "    \"\"\"\n",
    "    计算SSR(regression sum of squares) 回归平方和\n",
    "    :param y_fitting: List[int] or array[int]  拟合好的y值\n",
    "    :param y_no_fitting: List[int] or array[int] 待拟合y值\n",
    "    :return: 回归平方和SSR\n",
    "    \"\"\"\n",
    "    y_mean = sum(y_no_fitting) / len(y_no_fitting)\n",
    "    s_list =[(y - y_mean)**2 for y in y_fitting]\n",
    "    ssr = sum(s_list)\n",
    "    return ssr\n",
    "\n",
    "\n",
    "def __sse(y_fitting, y_no_fitting):\n",
    "    \"\"\"\n",
    "    计算SSE(error sum of squares) 残差平方和\n",
    "    :param y_fitting: List[int] or array[int] 拟合好的y值\n",
    "    :param y_no_fitting: List[int] or array[int] 待拟合y值\n",
    "    :return: 残差平方和SSE\n",
    "    \"\"\"\n",
    "    s_list = [(y_fitting[i] - y_no_fitting[i])**2 for i in range(len(y_fitting))]\n",
    "    sse = sum(s_list)\n",
    "    return sse\n",
    "\n",
    "\n",
    "def goodness_of_fit(y_fitting, y_no_fitting):\n",
    "    \"\"\"\n",
    "    计算拟合优度R^2\n",
    "    :param y_fitting: List[int] or array[int] 拟合好的y值\n",
    "    :param y_no_fitting: List[int] or array[int] 待拟合y值\n",
    "    :return: 拟合优度R^2\n",
    "    \"\"\"\n",
    "    SSR = __ssr(y_fitting, y_no_fitting)\n",
    "    SST = __sst(y_no_fitting)\n",
    "    rr = SSR /SST\n",
    "    return rr"
   ]
  },
  {
   "cell_type": "code",
   "execution_count": 65,
   "id": "9ccd95d8",
   "metadata": {
    "scrolled": true
   },
   "outputs": [],
   "source": [
    "rate = []\n",
    "\n",
    "for row in equation.index:\n",
    "    equation0 = equation.loc[row]['equation']\n",
    "    X0 = equation.loc[row]['x_group']\n",
    "    Y0 = equation.loc[row]['y_group']\n",
    "    Y_predict = list(map(lambda x:eval(equation0), X0))\n",
    "    rr1 = goodness_of_fit(Y_predict, Y0)\n",
    "    rate.append(rr1)\n",
    "    \n",
    "rate = pd.DataFrame(rate)\n"
   ]
  },
  {
   "cell_type": "code",
   "execution_count": 66,
   "id": "2280d5db",
   "metadata": {},
   "outputs": [
    {
     "data": {
      "text/html": [
       "<div>\n",
       "<style scoped>\n",
       "    .dataframe tbody tr th:only-of-type {\n",
       "        vertical-align: middle;\n",
       "    }\n",
       "\n",
       "    .dataframe tbody tr th {\n",
       "        vertical-align: top;\n",
       "    }\n",
       "\n",
       "    .dataframe thead th {\n",
       "        text-align: right;\n",
       "    }\n",
       "</style>\n",
       "<table border=\"1\" class=\"dataframe\">\n",
       "  <thead>\n",
       "    <tr style=\"text-align: right;\">\n",
       "      <th></th>\n",
       "      <th>platform</th>\n",
       "      <th>media_name</th>\n",
       "      <th>equation</th>\n",
       "      <th>fitness</th>\n",
       "    </tr>\n",
       "  </thead>\n",
       "  <tbody>\n",
       "    <tr>\n",
       "      <th>0</th>\n",
       "      <td>0</td>\n",
       "      <td>0</td>\n",
       "      <td>8.358288657229402e-12 * x**4 + -5.978937801336...</td>\n",
       "      <td>0.929553</td>\n",
       "    </tr>\n",
       "    <tr>\n",
       "      <th>1</th>\n",
       "      <td>0</td>\n",
       "      <td>1</td>\n",
       "      <td>-7.081279128057208e-08 * x**4 + 2.999371277303...</td>\n",
       "      <td>0.942529</td>\n",
       "    </tr>\n",
       "    <tr>\n",
       "      <th>2</th>\n",
       "      <td>0</td>\n",
       "      <td>2</td>\n",
       "      <td>-1.607787499288402e-16 * x**4 + 8.488173947730...</td>\n",
       "      <td>0.921959</td>\n",
       "    </tr>\n",
       "    <tr>\n",
       "      <th>3</th>\n",
       "      <td>1</td>\n",
       "      <td>3</td>\n",
       "      <td>-2.349420587876182e-12 * x**4 + 2.279231275680...</td>\n",
       "      <td>0.954361</td>\n",
       "    </tr>\n",
       "    <tr>\n",
       "      <th>4</th>\n",
       "      <td>1</td>\n",
       "      <td>4</td>\n",
       "      <td>-2.512460283338274e-12 * x**4 + 2.199925466906...</td>\n",
       "      <td>0.926692</td>\n",
       "    </tr>\n",
       "    <tr>\n",
       "      <th>5</th>\n",
       "      <td>1</td>\n",
       "      <td>5</td>\n",
       "      <td>-8.87827458793087e-15 * x**4 + 6.2392043322982...</td>\n",
       "      <td>0.870235</td>\n",
       "    </tr>\n",
       "    <tr>\n",
       "      <th>6</th>\n",
       "      <td>0</td>\n",
       "      <td>6</td>\n",
       "      <td>-1.171223040699868e-13 * x**4 + 3.311486587829...</td>\n",
       "      <td>0.952121</td>\n",
       "    </tr>\n",
       "    <tr>\n",
       "      <th>7</th>\n",
       "      <td>1</td>\n",
       "      <td>6</td>\n",
       "      <td>-4.686834720843802e-13 * x**4 + 6.579524062664...</td>\n",
       "      <td>0.952933</td>\n",
       "    </tr>\n",
       "    <tr>\n",
       "      <th>8</th>\n",
       "      <td>0</td>\n",
       "      <td>7</td>\n",
       "      <td>-7.305976405625515e-15 * x**4 + 5.637863468985...</td>\n",
       "      <td>0.964186</td>\n",
       "    </tr>\n",
       "    <tr>\n",
       "      <th>9</th>\n",
       "      <td>1</td>\n",
       "      <td>7</td>\n",
       "      <td>3.2961576906801373e-13 * x**4 + -2.26348975835...</td>\n",
       "      <td>0.947447</td>\n",
       "    </tr>\n",
       "    <tr>\n",
       "      <th>10</th>\n",
       "      <td>1</td>\n",
       "      <td>8</td>\n",
       "      <td>2.947341271339937e-11 * x**4 + -1.685131507635...</td>\n",
       "      <td>0.925948</td>\n",
       "    </tr>\n",
       "    <tr>\n",
       "      <th>11</th>\n",
       "      <td>0</td>\n",
       "      <td>9</td>\n",
       "      <td>-1.5522071377033433e-12 * x**4 + 2.29505191386...</td>\n",
       "      <td>0.911892</td>\n",
       "    </tr>\n",
       "    <tr>\n",
       "      <th>12</th>\n",
       "      <td>0</td>\n",
       "      <td>10</td>\n",
       "      <td>4.9807773274984985e-15 * x**4 + -2.73830917721...</td>\n",
       "      <td>0.923733</td>\n",
       "    </tr>\n",
       "    <tr>\n",
       "      <th>13</th>\n",
       "      <td>0</td>\n",
       "      <td>11</td>\n",
       "      <td>-9.016296123006474e-13 * x**4 + 1.077781391065...</td>\n",
       "      <td>0.883193</td>\n",
       "    </tr>\n",
       "    <tr>\n",
       "      <th>14</th>\n",
       "      <td>1</td>\n",
       "      <td>11</td>\n",
       "      <td>-1.839555056729232e-12 * x**4 + 2.123330101115...</td>\n",
       "      <td>0.925562</td>\n",
       "    </tr>\n",
       "    <tr>\n",
       "      <th>15</th>\n",
       "      <td>0</td>\n",
       "      <td>12</td>\n",
       "      <td>-4.596465492503174e-16 * x**4 + 8.759334808288...</td>\n",
       "      <td>0.913755</td>\n",
       "    </tr>\n",
       "    <tr>\n",
       "      <th>16</th>\n",
       "      <td>1</td>\n",
       "      <td>13</td>\n",
       "      <td>-1.9137857565288408e-11 * x**4 + 1.87728825758...</td>\n",
       "      <td>0.947637</td>\n",
       "    </tr>\n",
       "    <tr>\n",
       "      <th>17</th>\n",
       "      <td>1</td>\n",
       "      <td>14</td>\n",
       "      <td>-6.6409979899000505e-12 * x**4 + 3.54718848044...</td>\n",
       "      <td>0.965163</td>\n",
       "    </tr>\n",
       "    <tr>\n",
       "      <th>18</th>\n",
       "      <td>0</td>\n",
       "      <td>15</td>\n",
       "      <td>-1.0663157166528422e-09 * x**4 + 1.29959964849...</td>\n",
       "      <td>0.923575</td>\n",
       "    </tr>\n",
       "    <tr>\n",
       "      <th>19</th>\n",
       "      <td>1</td>\n",
       "      <td>15</td>\n",
       "      <td>1.0537434437079662e-11 * x**4 + -2.57870855717...</td>\n",
       "      <td>0.963865</td>\n",
       "    </tr>\n",
       "    <tr>\n",
       "      <th>20</th>\n",
       "      <td>0</td>\n",
       "      <td>16</td>\n",
       "      <td>-5.066076119828175e-16 * x**4 + 1.608941142281...</td>\n",
       "      <td>0.896623</td>\n",
       "    </tr>\n",
       "    <tr>\n",
       "      <th>21</th>\n",
       "      <td>0</td>\n",
       "      <td>16</td>\n",
       "      <td>-5.066076119828175e-16 * x**4 + 1.608941142281...</td>\n",
       "      <td>0.896623</td>\n",
       "    </tr>\n",
       "  </tbody>\n",
       "</table>\n",
       "</div>"
      ],
      "text/plain": [
       "    platform  media_name                                           equation  \\\n",
       "0          0           0  8.358288657229402e-12 * x**4 + -5.978937801336...   \n",
       "1          0           1  -7.081279128057208e-08 * x**4 + 2.999371277303...   \n",
       "2          0           2  -1.607787499288402e-16 * x**4 + 8.488173947730...   \n",
       "3          1           3  -2.349420587876182e-12 * x**4 + 2.279231275680...   \n",
       "4          1           4  -2.512460283338274e-12 * x**4 + 2.199925466906...   \n",
       "5          1           5  -8.87827458793087e-15 * x**4 + 6.2392043322982...   \n",
       "6          0           6  -1.171223040699868e-13 * x**4 + 3.311486587829...   \n",
       "7          1           6  -4.686834720843802e-13 * x**4 + 6.579524062664...   \n",
       "8          0           7  -7.305976405625515e-15 * x**4 + 5.637863468985...   \n",
       "9          1           7  3.2961576906801373e-13 * x**4 + -2.26348975835...   \n",
       "10         1           8  2.947341271339937e-11 * x**4 + -1.685131507635...   \n",
       "11         0           9  -1.5522071377033433e-12 * x**4 + 2.29505191386...   \n",
       "12         0          10  4.9807773274984985e-15 * x**4 + -2.73830917721...   \n",
       "13         0          11  -9.016296123006474e-13 * x**4 + 1.077781391065...   \n",
       "14         1          11  -1.839555056729232e-12 * x**4 + 2.123330101115...   \n",
       "15         0          12  -4.596465492503174e-16 * x**4 + 8.759334808288...   \n",
       "16         1          13  -1.9137857565288408e-11 * x**4 + 1.87728825758...   \n",
       "17         1          14  -6.6409979899000505e-12 * x**4 + 3.54718848044...   \n",
       "18         0          15  -1.0663157166528422e-09 * x**4 + 1.29959964849...   \n",
       "19         1          15  1.0537434437079662e-11 * x**4 + -2.57870855717...   \n",
       "20         0          16  -5.066076119828175e-16 * x**4 + 1.608941142281...   \n",
       "21         0          16  -5.066076119828175e-16 * x**4 + 1.608941142281...   \n",
       "\n",
       "     fitness  \n",
       "0   0.929553  \n",
       "1   0.942529  \n",
       "2   0.921959  \n",
       "3   0.954361  \n",
       "4   0.926692  \n",
       "5   0.870235  \n",
       "6   0.952121  \n",
       "7   0.952933  \n",
       "8   0.964186  \n",
       "9   0.947447  \n",
       "10  0.925948  \n",
       "11  0.911892  \n",
       "12  0.923733  \n",
       "13  0.883193  \n",
       "14  0.925562  \n",
       "15  0.913755  \n",
       "16  0.947637  \n",
       "17  0.965163  \n",
       "18  0.923575  \n",
       "19  0.963865  \n",
       "20  0.896623  \n",
       "21  0.896623  "
      ]
     },
     "execution_count": 66,
     "metadata": {},
     "output_type": "execute_result"
    }
   ],
   "source": [
    "result = pd.concat([equation,rate],axis=1,ignore_index=False)\n",
    "result = result.drop(['x_group','y_group'],axis = 1)\n",
    "result.columns = ['platform','media_name','equation','fitness']\n",
    "result"
   ]
  },
  {
   "cell_type": "code",
   "execution_count": 68,
   "id": "2d057b20",
   "metadata": {},
   "outputs": [],
   "source": [
    "result.to_csv('模型拟合优度.csv',index = None)"
   ]
  }
 ],
 "metadata": {
  "kernelspec": {
   "display_name": "Python 3 (ipykernel)",
   "language": "python",
   "name": "python3"
  },
  "language_info": {
   "codemirror_mode": {
    "name": "ipython",
    "version": 3
   },
   "file_extension": ".py",
   "mimetype": "text/x-python",
   "name": "python",
   "nbconvert_exporter": "python",
   "pygments_lexer": "ipython3",
   "version": "3.9.7"
  }
 },
 "nbformat": 4,
 "nbformat_minor": 5
}
